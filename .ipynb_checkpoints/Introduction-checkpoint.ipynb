{
 "cells": [
  {
   "cell_type": "code",
   "execution_count": 5,
   "id": "546392bf",
   "metadata": {},
   "outputs": [
    {
     "name": "stdout",
     "output_type": "stream",
     "text": [
      "11\n"
     ]
    }
   ],
   "source": [
    "#introduction\n",
    "# use '#' to write anything that is not code\n",
    "#assignment\n",
    "#ctrl+enter to execute commands\n",
    "x=5\n",
    "y=6\n",
    "y\n",
    "print(x+y)"
   ]
  },
  {
   "cell_type": "code",
   "execution_count": 7,
   "id": "4eca60b0",
   "metadata": {},
   "outputs": [
    {
     "data": {
      "text/plain": [
       "8"
      ]
     },
     "execution_count": 7,
     "metadata": {},
     "output_type": "execute_result"
    }
   ],
   "source": [
    "#write a function that adds 2 numbers and call it\n",
    "def add_numbers (x,y):\n",
    "    return x+y\n",
    "add_numbers(5,3)"
   ]
  },
  {
   "cell_type": "code",
   "execution_count": 11,
   "id": "76c4602b",
   "metadata": {},
   "outputs": [
    {
     "data": {
      "text/plain": [
       "5.0"
      ]
     },
     "execution_count": 11,
     "metadata": {},
     "output_type": "execute_result"
    }
   ],
   "source": [
    "def divide_numbers (x,y):\n",
    "    if y==0:\n",
    "        return \"not defined\"\n",
    "    else:\n",
    "        return x/y\n",
    "divide_numbers(5,0)\n",
    "divide_numbers(10,2)"
   ]
  },
  {
   "cell_type": "code",
   "execution_count": 17,
   "id": "9a205365",
   "metadata": {},
   "outputs": [
    {
     "data": {
      "text/plain": [
       "[1, 'a', 2, 'b', 3]"
      ]
     },
     "execution_count": 17,
     "metadata": {},
     "output_type": "execute_result"
    }
   ],
   "source": [
    "# list and tuples\n",
    "l=[1,'a',2,'b'] #square brackets for list\n",
    "t=(1,'a',2,'b')  \n",
    "type(l)\n",
    "type(t)\n",
    "# append to the list l\n",
    "l.append(3)\n",
    "l"
   ]
  },
  {
   "cell_type": "code",
   "execution_count": 20,
   "id": "68419699",
   "metadata": {},
   "outputs": [
    {
     "name": "stdout",
     "output_type": "stream",
     "text": [
      "[1, 'a', 2, 'b', 3]\n",
      "[1, 'a', 2, 'b', 3]\n",
      "[1, 'a', 2, 'b', 3]\n",
      "[1, 'a', 2, 'b', 3]\n",
      "[1, 'a', 2, 'b', 3]\n",
      "1\n",
      "a\n",
      "2\n",
      "b\n",
      "3\n"
     ]
    }
   ],
   "source": [
    "#loops\n",
    "for item in l:\n",
    " print(l)\n",
    "\n",
    "for item in l:\n",
    " print(item)"
   ]
  },
  {
   "cell_type": "code",
   "execution_count": 21,
   "id": "4855c68e",
   "metadata": {},
   "outputs": [
    {
     "name": "stdout",
     "output_type": "stream",
     "text": [
      "1\n",
      "a\n",
      "2\n",
      "b\n",
      "3\n"
     ]
    }
   ],
   "source": [
    "i=0\n",
    "while (i!=len(l)):\n",
    "    print(l[i])\n",
    "    i= i+1"
   ]
  },
  {
   "cell_type": "code",
   "execution_count": 36,
   "id": "ba87cdb0",
   "metadata": {},
   "outputs": [
    {
     "name": "stdout",
     "output_type": "stream",
     "text": [
      "FatimaSadik\n",
      "FatimaSadik\n"
     ]
    }
   ],
   "source": [
    "#concatanate using +\n",
    "l=l+[10,9,8,7,6]\n",
    "f_name=\"Fatima\"\n",
    "s_name=\"Sadik\"\n",
    "print(f_name +''+ s_name)\n"
   ]
  },
  {
   "cell_type": "code",
   "execution_count": 34,
   "id": "ad8ba5d3",
   "metadata": {},
   "outputs": [
    {
     "data": {
      "text/plain": [
       "[1, 2, 1, 2, 1, 2]"
      ]
     },
     "execution_count": 34,
     "metadata": {},
     "output_type": "execute_result"
    }
   ],
   "source": [
    "#repeat list using *\n",
    "[1,2]*3\n"
   ]
  }
 ],
 "metadata": {
  "kernelspec": {
   "display_name": "Python 3 (ipykernel)",
   "language": "python",
   "name": "python3"
  },
  "language_info": {
   "codemirror_mode": {
    "name": "ipython",
    "version": 3
   },
   "file_extension": ".py",
   "mimetype": "text/x-python",
   "name": "python",
   "nbconvert_exporter": "python",
   "pygments_lexer": "ipython3",
   "version": "3.9.13"
  }
 },
 "nbformat": 4,
 "nbformat_minor": 5
}
