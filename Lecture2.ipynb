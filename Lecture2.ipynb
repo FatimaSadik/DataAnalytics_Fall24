{
 "cells": [
  {
   "cell_type": "markdown",
   "id": "1c1a454b",
   "metadata": {},
   "source": [
    "Lecture 2\n",
    "Pandas are useful when working with tabular data. Cleaning, restructuring (long to wide, merging), manipulating, quuering, and ploting the data will also be done using pandas\n",
    "In pandas data table is called a DataFrame"
   ]
  },
  {
   "cell_type": "code",
   "execution_count": null,
   "id": "4cfbe32f",
   "metadata": {},
   "outputs": [],
   "source": [
    "!pip install pandas\n",
    "!pip install numpy\n"
   ]
  },
  {
   "cell_type": "markdown",
   "id": "6c37137f",
   "metadata": {},
   "source": [
    "There are two types of data structures in pandas; Series and DataFrame. Series are different from list and dictionary. Each item or element of a series has an index and can be retrieved. The index can be thought of as a key in a dictionary. The actual data column will have a label that can be retrieved using .name attribute,"
   ]
  },
  {
   "cell_type": "code",
   "execution_count": 23,
   "id": "2a472a92",
   "metadata": {},
   "outputs": [],
   "source": [
    "import pandas as pd\n",
    "import numpy as np"
   ]
  },
  {
   "cell_type": "code",
   "execution_count": 18,
   "id": "c88914e0",
   "metadata": {},
   "outputs": [
    {
     "data": {
      "text/plain": [
       "0    Alice\n",
       "1     Jack\n",
       "2      Bob\n",
       "3     None\n",
       "dtype: object"
      ]
     },
     "execution_count": 18,
     "metadata": {},
     "output_type": "execute_result"
    }
   ],
   "source": [
    "# Make a series\n",
    "names=['Alice','Jack','Bob','None']\n",
    "pd.Series(names)"
   ]
  },
  {
   "cell_type": "code",
   "execution_count": 21,
   "id": "b6c65feb",
   "metadata": {},
   "outputs": [
    {
     "data": {
      "text/plain": [
       "0    10.0\n",
       "1     0.0\n",
       "2     9.0\n",
       "3     NaN\n",
       "dtype: float64"
      ]
     },
     "execution_count": 21,
     "metadata": {},
     "output_type": "execute_result"
    }
   ],
   "source": [
    "#let's make a series of whole numbers\n",
    "s=pd.Series([10,0,9])\n",
    "s\n",
    "s=pd.Series([10,0,9,None])\n",
    "s"
   ]
  },
  {
   "cell_type": "code",
   "execution_count": 25,
   "id": "58cf6a1d",
   "metadata": {},
   "outputs": [
    {
     "data": {
      "text/plain": [
       "False"
      ]
     },
     "execution_count": 25,
     "metadata": {},
     "output_type": "execute_result"
    }
   ],
   "source": [
    "#None and NAN are not the same\n",
    "np.nan==None"
   ]
  },
  {
   "cell_type": "code",
   "execution_count": 33,
   "id": "b2a3a6b3",
   "metadata": {},
   "outputs": [
    {
     "data": {
      "text/plain": [
       "True"
      ]
     },
     "execution_count": 33,
     "metadata": {},
     "output_type": "execute_result"
    }
   ],
   "source": [
    "#An equality test can not be done on nan\n",
    "a=np.nan\n",
    "a\n",
    "a==a\n",
    "#a special function is used\n",
    "np.isnan(a)\n"
   ]
  },
  {
   "cell_type": "code",
   "execution_count": 44,
   "id": "da4422c8",
   "metadata": {},
   "outputs": [
    {
     "data": {
      "text/plain": [
       "0    (Alice, Brown)\n",
       "1     (Bob, Marlow)\n",
       "dtype: object"
      ]
     },
     "execution_count": 44,
     "metadata": {},
     "output_type": "execute_result"
    }
   ],
   "source": [
    "#Series from dictionary\n",
    "student_scores={'Alice':10,'Bob':20,'Carl':11}\n",
    "s=pd.Series(student_scores)\n",
    "s.index\n",
    "#notice strings can be used as index\n",
    "#Tuples\n",
    "full_name=[('Alice','Brown'),('Bob','Marlow')]\n",
    "pd.Series(full_name)"
   ]
  },
  {
   "cell_type": "code",
   "execution_count": 53,
   "id": "30d4f2bf",
   "metadata": {},
   "outputs": [
    {
     "data": {
      "text/plain": [
       "435    Alice\n",
       "436      Bob\n",
       "437     Carl\n",
       "dtype: object"
      ]
     },
     "execution_count": 53,
     "metadata": {},
     "output_type": "execute_result"
    }
   ],
   "source": [
    "#automatic index\n",
    "pd.Series(['Alice','Bob','Carl'])\n",
    "#self assigned index \n",
    "pd.Series(['Alice','Bob','Carl'],index=[435,436,437])\n",
    "#pd.Series([10,20,11],index=['Alice','Bob','Carl'])"
   ]
  },
  {
   "cell_type": "code",
   "execution_count": 50,
   "id": "7ca04ec4",
   "metadata": {},
   "outputs": [
    {
     "data": {
      "text/plain": [
       "Alice        Math\n",
       "Bob       English\n",
       "Edward        NaN\n",
       "dtype: object"
      ]
     },
     "execution_count": 50,
     "metadata": {},
     "output_type": "execute_result"
    }
   ],
   "source": [
    "subjects={'Alice':'Math','Bob':'English','Carl':'Physics'}\n",
    "pd.Series(subjects,index=['Alice','Bob','Edward'])"
   ]
  }
 ],
 "metadata": {
  "kernelspec": {
   "display_name": "Python 3 (ipykernel)",
   "language": "python",
   "name": "python3"
  },
  "language_info": {
   "codemirror_mode": {
    "name": "ipython",
    "version": 3
   },
   "file_extension": ".py",
   "mimetype": "text/x-python",
   "name": "python",
   "nbconvert_exporter": "python",
   "pygments_lexer": "ipython3",
   "version": "3.9.13"
  }
 },
 "nbformat": 4,
 "nbformat_minor": 5
}
