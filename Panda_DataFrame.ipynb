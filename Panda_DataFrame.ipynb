{
 "cells": [
  {
   "cell_type": "markdown",
   "id": "6f679ebc",
   "metadata": {},
   "source": [
    "DataFrame Structure\n",
    "DataFrame Structure The DataFrame is conceptually a two-dimensional series object, where there's an index and multiple columns of content, with each column having a label. In fact, the distinction between a column and a row is really only a conceptual distinction. And you can think of the DataFrame itself as simply a two-axes labeled array."
   ]
  },
  {
   "cell_type": "code",
   "execution_count": 1,
   "id": "37697b08",
   "metadata": {},
   "outputs": [],
   "source": [
    "import pandas as pd"
   ]
  },
  {
   "cell_type": "code",
   "execution_count": 2,
   "id": "a69d1ba2",
   "metadata": {},
   "outputs": [],
   "source": [
    "#Series to DataFrame\n",
    "#Let's create records for countries and their life expectancy, income group, and GDPC\n",
    "pak_record=pd.Series({'country':'PAK','life':66,'Income':'Lower','GDPC':1407})\n",
    "ind_record=pd.Series({'country':'IND','life':68,'Income':'Lower','GDPC':2484.8})\n",
    "bgd_record=pd.Series({'country':'BGD','life':74,'Income':'Lower','GDPC':2529.1})"
   ]
  },
  {
   "cell_type": "code",
   "execution_count": 4,
   "id": "72a50bc0",
   "metadata": {},
   "outputs": [
    {
     "data": {
      "text/html": [
       "<div>\n",
       "<style scoped>\n",
       "    .dataframe tbody tr th:only-of-type {\n",
       "        vertical-align: middle;\n",
       "    }\n",
       "\n",
       "    .dataframe tbody tr th {\n",
       "        vertical-align: top;\n",
       "    }\n",
       "\n",
       "    .dataframe thead th {\n",
       "        text-align: right;\n",
       "    }\n",
       "</style>\n",
       "<table border=\"1\" class=\"dataframe\">\n",
       "  <thead>\n",
       "    <tr style=\"text-align: right;\">\n",
       "      <th></th>\n",
       "      <th>country</th>\n",
       "      <th>life</th>\n",
       "      <th>Income</th>\n",
       "      <th>GDPC</th>\n",
       "    </tr>\n",
       "  </thead>\n",
       "  <tbody>\n",
       "    <tr>\n",
       "      <th>country1</th>\n",
       "      <td>PAK</td>\n",
       "      <td>66</td>\n",
       "      <td>Lower</td>\n",
       "      <td>1407.0</td>\n",
       "    </tr>\n",
       "    <tr>\n",
       "      <th>country2</th>\n",
       "      <td>IND</td>\n",
       "      <td>68</td>\n",
       "      <td>Lower</td>\n",
       "      <td>2484.8</td>\n",
       "    </tr>\n",
       "    <tr>\n",
       "      <th>country3</th>\n",
       "      <td>BGD</td>\n",
       "      <td>74</td>\n",
       "      <td>Lower</td>\n",
       "      <td>2529.1</td>\n",
       "    </tr>\n",
       "  </tbody>\n",
       "</table>\n",
       "</div>"
      ],
      "text/plain": [
       "         country  life Income    GDPC\n",
       "country1     PAK    66  Lower  1407.0\n",
       "country2     IND    68  Lower  2484.8\n",
       "country3     BGD    74  Lower  2529.1"
      ]
     },
     "execution_count": 4,
     "metadata": {},
     "output_type": "execute_result"
    }
   ],
   "source": [
    "# Like a Series, the DataFrame object is index. Here I'll use a group of series, where each series \n",
    "# represents a row of data. Just like the Series function, we can pass in our individual items\n",
    "# in an array, and we can pass in our index values as a second arguments\n",
    "df=pd.DataFrame([pak_record,ind_record,bgd_record],index=['country1','country2','country3'])\n",
    "df.head(3)"
   ]
  },
  {
   "cell_type": "code",
   "execution_count": 7,
   "id": "6907412a",
   "metadata": {},
   "outputs": [
    {
     "data": {
      "text/html": [
       "<div>\n",
       "<style scoped>\n",
       "    .dataframe tbody tr th:only-of-type {\n",
       "        vertical-align: middle;\n",
       "    }\n",
       "\n",
       "    .dataframe tbody tr th {\n",
       "        vertical-align: top;\n",
       "    }\n",
       "\n",
       "    .dataframe thead th {\n",
       "        text-align: right;\n",
       "    }\n",
       "</style>\n",
       "<table border=\"1\" class=\"dataframe\">\n",
       "  <thead>\n",
       "    <tr style=\"text-align: right;\">\n",
       "      <th></th>\n",
       "      <th>country</th>\n",
       "      <th>life</th>\n",
       "      <th>Income</th>\n",
       "      <th>GDPC</th>\n",
       "    </tr>\n",
       "  </thead>\n",
       "  <tbody>\n",
       "    <tr>\n",
       "      <th>country1</th>\n",
       "      <td>PAK</td>\n",
       "      <td>66</td>\n",
       "      <td>Lower</td>\n",
       "      <td>1407.0</td>\n",
       "    </tr>\n",
       "    <tr>\n",
       "      <th>country2</th>\n",
       "      <td>IND</td>\n",
       "      <td>68</td>\n",
       "      <td>Lower</td>\n",
       "      <td>2484.8</td>\n",
       "    </tr>\n",
       "    <tr>\n",
       "      <th>country3</th>\n",
       "      <td>BGD</td>\n",
       "      <td>74</td>\n",
       "      <td>Lower</td>\n",
       "      <td>2529.1</td>\n",
       "    </tr>\n",
       "  </tbody>\n",
       "</table>\n",
       "</div>"
      ],
      "text/plain": [
       "         country  life Income    GDPC\n",
       "country1     PAK    66  Lower  1407.0\n",
       "country2     IND    68  Lower  2484.8\n",
       "country3     BGD    74  Lower  2529.1"
      ]
     },
     "execution_count": 7,
     "metadata": {},
     "output_type": "execute_result"
    }
   ],
   "source": [
    "#We can use list of Dictionary to DataFrame method to get the same result\n",
    "countries=[{'country':'PAK','life':66,'Income':'Lower','GDPC':1407},\n",
    "          {'country':'IND','life':68,'Income':'Lower','GDPC':2484.8},\n",
    "          {'country':'BGD','life':74,'Income':'Lower','GDPC':2529.1}]\n",
    "df=pd.DataFrame(countries,index=['country1','country2','country3'])\n",
    "df.head()"
   ]
  },
  {
   "cell_type": "code",
   "execution_count": 9,
   "id": "d922cbd3",
   "metadata": {},
   "outputs": [
    {
     "data": {
      "text/plain": [
       "country       BGD\n",
       "life           74\n",
       "Income      Lower\n",
       "GDPC       2529.1\n",
       "Name: country3, dtype: object"
      ]
     },
     "execution_count": 9,
     "metadata": {},
     "output_type": "execute_result"
    }
   ],
   "source": [
    "#loc and iloc\n",
    "#iloc and loc are used for row selection\n",
    "df.loc[\"country3\"]# row 3\n",
    "df.iloc[2]"
   ]
  },
  {
   "cell_type": "code",
   "execution_count": 11,
   "id": "a1b6c24a",
   "metadata": {},
   "outputs": [
    {
     "data": {
      "text/plain": [
       "pandas.core.series.Series"
      ]
     },
     "execution_count": 11,
     "metadata": {},
     "output_type": "execute_result"
    }
   ],
   "source": [
    "type(df.loc[\"country3\"])"
   ]
  },
  {
   "cell_type": "code",
   "execution_count": 10,
   "id": "55a6861e",
   "metadata": {},
   "outputs": [
    {
     "data": {
      "text/html": [
       "<div>\n",
       "<style scoped>\n",
       "    .dataframe tbody tr th:only-of-type {\n",
       "        vertical-align: middle;\n",
       "    }\n",
       "\n",
       "    .dataframe tbody tr th {\n",
       "        vertical-align: top;\n",
       "    }\n",
       "\n",
       "    .dataframe thead th {\n",
       "        text-align: right;\n",
       "    }\n",
       "</style>\n",
       "<table border=\"1\" class=\"dataframe\">\n",
       "  <thead>\n",
       "    <tr style=\"text-align: right;\">\n",
       "      <th></th>\n",
       "      <th>country1</th>\n",
       "      <th>country2</th>\n",
       "      <th>country3</th>\n",
       "    </tr>\n",
       "  </thead>\n",
       "  <tbody>\n",
       "    <tr>\n",
       "      <th>country</th>\n",
       "      <td>PAK</td>\n",
       "      <td>IND</td>\n",
       "      <td>BGD</td>\n",
       "    </tr>\n",
       "    <tr>\n",
       "      <th>life</th>\n",
       "      <td>66</td>\n",
       "      <td>68</td>\n",
       "      <td>74</td>\n",
       "    </tr>\n",
       "    <tr>\n",
       "      <th>Income</th>\n",
       "      <td>Lower</td>\n",
       "      <td>Lower</td>\n",
       "      <td>Lower</td>\n",
       "    </tr>\n",
       "    <tr>\n",
       "      <th>GDPC</th>\n",
       "      <td>1407.0</td>\n",
       "      <td>2484.8</td>\n",
       "      <td>2529.1</td>\n",
       "    </tr>\n",
       "  </tbody>\n",
       "</table>\n",
       "</div>"
      ],
      "text/plain": [
       "        country1 country2 country3\n",
       "country      PAK      IND      BGD\n",
       "life          66       68       74\n",
       "Income     Lower    Lower    Lower\n",
       "GDPC      1407.0   2484.8   2529.1"
      ]
     },
     "execution_count": 10,
     "metadata": {},
     "output_type": "execute_result"
    }
   ],
   "source": [
    "df.T"
   ]
  },
  {
   "cell_type": "code",
   "execution_count": 12,
   "id": "dce4b992",
   "metadata": {},
   "outputs": [
    {
     "data": {
      "text/plain": [
       "68"
      ]
     },
     "execution_count": 12,
     "metadata": {},
     "output_type": "execute_result"
    }
   ],
   "source": [
    "df.loc['country2','life'] # if we are only interested in country2 life expectancy"
   ]
  },
  {
   "cell_type": "code",
   "execution_count": 13,
   "id": "e44734eb",
   "metadata": {},
   "outputs": [
    {
     "data": {
      "text/plain": [
       "country1    PAK\n",
       "country2    IND\n",
       "country3    BGD\n",
       "Name: country, dtype: object"
      ]
     },
     "execution_count": 13,
     "metadata": {},
     "output_type": "execute_result"
    }
   ],
   "source": [
    "df.T.loc['country'] #Then we can call .loc on the transpose to get the country names only"
   ]
  },
  {
   "cell_type": "code",
   "execution_count": 14,
   "id": "0d0caad2",
   "metadata": {},
   "outputs": [
    {
     "data": {
      "text/plain": [
       "country1    66\n",
       "country2    68\n",
       "country3    74\n",
       "Name: life, dtype: int64"
      ]
     },
     "execution_count": 14,
     "metadata": {},
     "output_type": "execute_result"
    }
   ],
   "source": [
    "df['life'] #prints life column\n",
    " #you get a key error if you try and use .loc with a column name"
   ]
  },
  {
   "cell_type": "code",
   "execution_count": 15,
   "id": "9a856567",
   "metadata": {},
   "outputs": [
    {
     "data": {
      "text/plain": [
       "1407.0"
      ]
     },
     "execution_count": 15,
     "metadata": {},
     "output_type": "execute_result"
    }
   ],
   "source": [
    "df.loc['country1']['GDPC']"
   ]
  },
  {
   "cell_type": "code",
   "execution_count": 17,
   "id": "debeb812",
   "metadata": {},
   "outputs": [
    {
     "name": "stdout",
     "output_type": "stream",
     "text": [
      "<class 'numpy.float64'>\n",
      "<class 'pandas.core.series.Series'>\n"
     ]
    }
   ],
   "source": [
    "print(type(df.loc['country1']['GDPC']))\n",
    "print(type(df.loc['country1']))"
   ]
  }
 ],
 "metadata": {
  "kernelspec": {
   "display_name": "Python 3 (ipykernel)",
   "language": "python",
   "name": "python3"
  },
  "language_info": {
   "codemirror_mode": {
    "name": "ipython",
    "version": 3
   },
   "file_extension": ".py",
   "mimetype": "text/x-python",
   "name": "python",
   "nbconvert_exporter": "python",
   "pygments_lexer": "ipython3",
   "version": "3.9.13"
  }
 },
 "nbformat": 4,
 "nbformat_minor": 5
}
