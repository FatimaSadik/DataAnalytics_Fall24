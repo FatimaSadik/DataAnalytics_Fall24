{
 "cells": [
  {
   "cell_type": "code",
   "execution_count": 5,
   "id": "fced0f4b",
   "metadata": {},
   "outputs": [
    {
     "name": "stdout",
     "output_type": "stream",
     "text": [
      "11\n"
     ]
    }
   ],
   "source": [
    "#introduction\n",
    "# use '#' to write anything that is not code\n",
    "#assignment\n",
    "#ctrl+enter to execute commands\n",
    "x=5\n",
    "y=6\n",
    "y\n",
    "print(x+y)"
   ]
  },
  {
   "cell_type": "code",
   "execution_count": 7,
   "id": "5ed51e2c",
   "metadata": {},
   "outputs": [
    {
     "data": {
      "text/plain": [
       "8"
      ]
     },
     "execution_count": 7,
     "metadata": {},
     "output_type": "execute_result"
    }
   ],
   "source": [
    "#write a function that adds 2 numbers and call it\n",
    "def add_numbers (x,y):\n",
    "    return x+y\n",
    "add_numbers(5,3)"
   ]
  },
  {
   "cell_type": "code",
   "execution_count": 11,
   "id": "d51dcd54",
   "metadata": {},
   "outputs": [
    {
     "data": {
      "text/plain": [
       "5.0"
      ]
     },
     "execution_count": 11,
     "metadata": {},
     "output_type": "execute_result"
    }
   ],
   "source": [
    "def divide_numbers (x,y):\n",
    "    if y==0:\n",
    "        return \"not defined\"\n",
    "    else:\n",
    "        return x/y\n",
    "divide_numbers(5,0)\n",
    "divide_numbers(10,2)"
   ]
  },
  {
   "cell_type": "code",
   "execution_count": 17,
   "id": "86d8fb47",
   "metadata": {},
   "outputs": [
    {
     "data": {
      "text/plain": [
       "[1, 'a', 2, 'b', 3]"
      ]
     },
     "execution_count": 17,
     "metadata": {},
     "output_type": "execute_result"
    }
   ],
   "source": [
    "# list and tuples\n",
    "l=[1,'a',2,'b'] #square brackets for list\n",
    "t=(1,'a',2,'b')  \n",
    "type(l)\n",
    "type(t)\n",
    "# append to the list l\n",
    "l.append(3)\n",
    "l"
   ]
  },
  {
   "cell_type": "code",
   "execution_count": 20,
   "id": "52ec91be",
   "metadata": {},
   "outputs": [
    {
     "name": "stdout",
     "output_type": "stream",
     "text": [
      "[1, 'a', 2, 'b', 3]\n",
      "[1, 'a', 2, 'b', 3]\n",
      "[1, 'a', 2, 'b', 3]\n",
      "[1, 'a', 2, 'b', 3]\n",
      "[1, 'a', 2, 'b', 3]\n",
      "1\n",
      "a\n",
      "2\n",
      "b\n",
      "3\n"
     ]
    }
   ],
   "source": [
    "#loops\n",
    "for item in l:\n",
    " print(l)\n",
    "\n",
    "for item in l:\n",
    " print(item)"
   ]
  },
  {
   "cell_type": "code",
   "execution_count": 21,
   "id": "08acb520",
   "metadata": {},
   "outputs": [
    {
     "name": "stdout",
     "output_type": "stream",
     "text": [
      "1\n",
      "a\n",
      "2\n",
      "b\n",
      "3\n"
     ]
    }
   ],
   "source": [
    "i=0\n",
    "while (i!=len(l)):\n",
    "    print(l[i])\n",
    "    i= i+1"
   ]
  },
  {
   "cell_type": "code",
   "execution_count": 38,
   "id": "f46f1460",
   "metadata": {},
   "outputs": [
    {
     "name": "stdout",
     "output_type": "stream",
     "text": [
      "FatimaSadik\n"
     ]
    }
   ],
   "source": [
    "#concatanate using +\n",
    "l=l+[10,9,8,7,6]\n",
    "f_name=\"Fatima\"\n",
    "s_name=\"Sadik\"\n",
    "print(f_name +''+ s_name)\n"
   ]
  },
  {
   "cell_type": "code",
   "execution_count": 34,
   "id": "8883eb31",
   "metadata": {},
   "outputs": [
    {
     "data": {
      "text/plain": [
       "[1, 2, 1, 2, 1, 2]"
      ]
     },
     "execution_count": 34,
     "metadata": {},
     "output_type": "execute_result"
    }
   ],
   "source": [
    "#repeat list using *\n",
    "[1,2]*3\n"
   ]
  },
  {
   "cell_type": "code",
   "execution_count": 48,
   "id": "99be75aa",
   "metadata": {},
   "outputs": [
    {
     "data": {
      "text/plain": [
       "'as for Tomorrow'"
      ]
     },
     "execution_count": 48,
     "metadata": {},
     "output_type": "execute_result"
    }
   ],
   "source": [
    "#indexing\n",
    "c=\"Ideas for Tomorrow\"\n",
    "c[0]\n",
    "c[0:1]\n",
    "c[0:2] #first 2 characters\n",
    "c[-1] #last character\n",
    "c[-4:-2] #This will return the slice starting from the 4th element from the end and stopping before the 2nd element from the end\n",
    "c[:3] #first three\n",
    "c[3:]"
   ]
  },
  {
   "cell_type": "code",
   "execution_count": 56,
   "id": "014c05dd",
   "metadata": {},
   "outputs": [
    {
     "name": "stdout",
     "output_type": "stream",
     "text": [
      "USA won 40 gold medals, 44 silver medals, and 42 bronze medals in Olympics 2024\n"
     ]
    }
   ],
   "source": [
    "country_data={\n",
    "    'country':'USA',\n",
    "    'No_gold_medals':40,\n",
    "    'No_silver_medals':44,\n",
    "    'No_bronze_medals':42,}\n",
    "statement='{} won {} gold medals, {} silver medals, and {} bronze medals in Olympics 2024'\n",
    "print(statement.format(country_data['country'],\n",
    "                      country_data['No_gold_medals'],\n",
    "                      country_data['No_silver_medals'],\n",
    "                      country_data['No_bronze_medals']))"
   ]
  },
  {
   "cell_type": "code",
   "execution_count": 5,
   "id": "123ab5db",
   "metadata": {},
   "outputs": [
    {
     "data": {
      "text/plain": [
       "dict_keys(['Country Name', 'Country Code', 'Time', 'Time Code', 'GDP growth (annual %) [NY.GDP.MKTP.KD.ZG]', 'GDP per capita (constant 2015 US$) [NY.GDP.PCAP.KD]', 'GDP (constant 2015 US$) [NY.GDP.MKTP.KD]', 'CO2 emissions (metric tons per capita) [EN.ATM.CO2E.PC]', 'Exports of goods and services (constant 2015 US$) [NE.EXP.GNFS.KD]', 'Imports of goods and services (constant 2015 US$) [NE.IMP.GNFS.KD]'])"
      ]
     },
     "execution_count": 5,
     "metadata": {},
     "output_type": "execute_result"
    }
   ],
   "source": [
    "#import and work with a csv file\n",
    "import csv\n",
    "with open('wdi_2.csv') as csvfile:\n",
    "    wdi_2 = list(csv.DictReader(csvfile)) #csv.Dictreader has read in each row of our csv file as a dictionary\n",
    "wdi_2[:3] \n",
    "len(wdi_2)\n",
    "wdi_2[0].keys() #column names"
   ]
  },
  {
   "cell_type": "code",
   "execution_count": 16,
   "id": "9396e965",
   "metadata": {},
   "outputs": [
    {
     "name": "stdout",
     "output_type": "stream",
     "text": [
      "{'2012', '2019', '2018', '2022', '2021', '2011', '2017', '2016', '2013', '2015', '2009', '2020', '2010', '2014', '2023'}\n",
      "{'IND', 'NPL', 'PAK', 'AFG', 'BGD', 'LKA', 'MDV', 'BTN'}\n"
     ]
    }
   ],
   "source": [
    "#for item in wdi_2:\n",
    "  #  print(item['Time'])\n",
    "years = set(entry['Time'] for entry in wdi_2) \n",
    "print(years)\n",
    "countries=set(i['Country Code'] for i in wdi_2)\n",
    "print(countries)"
   ]
  },
  {
   "cell_type": "code",
   "execution_count": 28,
   "id": "cfc7a609",
   "metadata": {},
   "outputs": [
    {
     "name": "stdout",
     "output_type": "stream",
     "text": [
      "4795369000000.0\n",
      "319691266666.6667\n"
     ]
    }
   ],
   "source": [
    "total_gdp_pak=sum(float(i['GDP (constant 2015 US$) [NY.GDP.MKTP.KD]']) \n",
    "                  for i in wdi_2 if i['Country Code']=='PAK')\n",
    "print(total_gdp_pak)\n",
    "avg_gdp_pak=total_gdp_pak/len(years)\n",
    "print(avg_gdp_pak)"
   ]
  },
  {
   "cell_type": "code",
   "execution_count": 30,
   "id": "e0a50902",
   "metadata": {},
   "outputs": [],
   "source": [
    "# import libraries\n",
    "#numpy helps perform operations on arrays (arrays is a programming term for vectors and matrices)\n",
    "#we can perform matrix multiplication, eigen values, inverse, etc\n",
    "#also statistical operations\n",
    "import numpy as np\n",
    "import math"
   ]
  }
 ],
 "metadata": {
  "kernelspec": {
   "display_name": "Python 3 (ipykernel)",
   "language": "python",
   "name": "python3"
  },
  "language_info": {
   "codemirror_mode": {
    "name": "ipython",
    "version": 3
   },
   "file_extension": ".py",
   "mimetype": "text/x-python",
   "name": "python",
   "nbconvert_exporter": "python",
   "pygments_lexer": "ipython3",
   "version": "3.9.13"
  }
 },
 "nbformat": 4,
 "nbformat_minor": 5
}
