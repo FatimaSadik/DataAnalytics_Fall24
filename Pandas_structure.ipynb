{
 "cells": [
  {
   "cell_type": "markdown",
   "id": "1c1a454b",
   "metadata": {},
   "source": [
    "Pandas are useful when working with tabular data. Cleaning, restructuring (long to wide, merging), manipulating, quuering, and ploting the data will also be done using pandas\n",
    "In pandas data table is called a DataFrame"
   ]
  },
  {
   "cell_type": "code",
   "execution_count": null,
   "id": "4cfbe32f",
   "metadata": {},
   "outputs": [],
   "source": [
    "!pip install pandas\n",
    "!pip install numpy\n"
   ]
  },
  {
   "cell_type": "markdown",
   "id": "6c37137f",
   "metadata": {},
   "source": [
    "There are two types of data structures in pandas; Series and DataFrame. Series are different from list and dictionary. Each item or element of a series has an index and can be retrieved. The index can be thought of as a key in a dictionary. The actual data column will have a label that can be retrieved using .name attribute,"
   ]
  },
  {
   "cell_type": "code",
   "execution_count": 2,
   "id": "2a472a92",
   "metadata": {},
   "outputs": [],
   "source": [
    "import pandas as pd\n",
    "import numpy as np"
   ]
  },
  {
   "cell_type": "code",
   "execution_count": 3,
   "id": "c88914e0",
   "metadata": {},
   "outputs": [
    {
     "data": {
      "text/plain": [
       "0    PAK\n",
       "1    IND\n",
       "2    BGD\n",
       "dtype: object"
      ]
     },
     "execution_count": 3,
     "metadata": {},
     "output_type": "execute_result"
    }
   ],
   "source": [
    "# Make a series\n",
    "countries=['PAK','IND','BGD']\n",
    "pd.Series(countries)"
   ]
  },
  {
   "cell_type": "code",
   "execution_count": 4,
   "id": "b6c65feb",
   "metadata": {},
   "outputs": [
    {
     "data": {
      "text/plain": [
       "PAK    66\n",
       "IND    68\n",
       "BGD    74\n",
       "dtype: int64"
      ]
     },
     "execution_count": 4,
     "metadata": {},
     "output_type": "execute_result"
    }
   ],
   "source": [
    "#let's make a series of whole numbers\n",
    "life_expectancy_birth=pd.Series([66,68,74])\n",
    "life_expectancy_birth\n",
    "life=pd.Series([66,68,74],index=(countries))\n",
    "life"
   ]
  },
  {
   "cell_type": "code",
   "execution_count": 25,
   "id": "58cf6a1d",
   "metadata": {},
   "outputs": [
    {
     "data": {
      "text/plain": [
       "False"
      ]
     },
     "execution_count": 25,
     "metadata": {},
     "output_type": "execute_result"
    }
   ],
   "source": [
    "#None and NAN are not the same\n",
    "np.nan==None"
   ]
  },
  {
   "cell_type": "code",
   "execution_count": 33,
   "id": "b2a3a6b3",
   "metadata": {},
   "outputs": [
    {
     "data": {
      "text/plain": [
       "True"
      ]
     },
     "execution_count": 33,
     "metadata": {},
     "output_type": "execute_result"
    }
   ],
   "source": [
    "#An equality test can not be done on nan\n",
    "a=np.nan\n",
    "a\n",
    "a==a\n",
    "#a special function is used\n",
    "np.isnan(a)\n"
   ]
  },
  {
   "cell_type": "code",
   "execution_count": 35,
   "id": "da4422c8",
   "metadata": {},
   "outputs": [
    {
     "data": {
      "text/plain": [
       "PAK    66\n",
       "IND    68\n",
       "BGD    74\n",
       "dtype: int64"
      ]
     },
     "execution_count": 35,
     "metadata": {},
     "output_type": "execute_result"
    }
   ],
   "source": [
    "#Series from dictionary\n",
    "countries_life_expectancy={'PAK':66,'IND':68,'BGD':74}\n",
    "lifes=pd.Series(countries_life_expectancy)\n",
    "lifes\n"
   ]
  },
  {
   "cell_type": "code",
   "execution_count": null,
   "id": "30d4f2bf",
   "metadata": {},
   "outputs": [],
   "source": []
  },
  {
   "cell_type": "code",
   "execution_count": 6,
   "id": "7ca04ec4",
   "metadata": {},
   "outputs": [
    {
     "data": {
      "text/plain": [
       "PAK    LOWER MIDDLE\n",
       "IND    LOWER MIDDLE\n",
       "AFG             LOW\n",
       "NEP             NaN\n",
       "dtype: object"
      ]
     },
     "execution_count": 6,
     "metadata": {},
     "output_type": "execute_result"
    }
   ],
   "source": [
    "countries_dict={'PAK':'LOWER MIDDLE','IND':'LOWER MIDDLE','BGD':'LOWER MIDDLE','AFG':'LOW'}\n",
    "countries=pd.Series(countries_dict,index=['PAK','IND','AFG','NEP']) #countries names are the index labels\n",
    "countries"
   ]
  },
  {
   "cell_type": "markdown",
   "id": "19f743cc",
   "metadata": {},
   "source": [
    "BGD is not part of the series even though it was part of the dictionary. However, NEP is included as a missing value\n",
    "Querying a Series"
   ]
  },
  {
   "cell_type": "code",
   "execution_count": 26,
   "id": "8105bc84",
   "metadata": {},
   "outputs": [
    {
     "data": {
      "text/plain": [
       "'LOWER MIDDLE'"
      ]
     },
     "execution_count": 26,
     "metadata": {},
     "output_type": "execute_result"
    }
   ],
   "source": [
    "# A pandas Series can be queried either by the index position or the index label. If you don't give an \n",
    "# index to the series when querying, the position and the label are effectively the same values. To \n",
    "# query by numeric location, starting at zero, use the iloc attribute. To query by the index label, \n",
    "# you can use the loc attribute. \n",
    "countries.iloc[0] #will return the income level of the 1st entry\n",
    "countries.loc[\"PAK\"] #Will do the same"
   ]
  },
  {
   "cell_type": "code",
   "execution_count": 33,
   "id": "a730b9e5",
   "metadata": {},
   "outputs": [
    {
     "data": {
      "text/plain": [
       "'PAK'"
      ]
     },
     "execution_count": 33,
     "metadata": {},
     "output_type": "execute_result"
    }
   ],
   "source": [
    "countries_codes=pd.Series({586:'PAK',356:'IND',50:'BGD'})\n",
    "countries_codes\n",
    "#countries_codes[0] #this gives an error, because index zero does not exist\n",
    "countries_codes.iloc[0]\n"
   ]
  },
  {
   "cell_type": "code",
   "execution_count": 13,
   "id": "797c076f",
   "metadata": {},
   "outputs": [
    {
     "name": "stdout",
     "output_type": "stream",
     "text": [
      "69.33333333333333\n"
     ]
    }
   ],
   "source": [
    "#Operations on each element of series, for example computing average or transforming variables\n",
    "lifes #contains life expectancy of 3 countries\n",
    "type(lifes)\n",
    "#we want to compute average life expectancy\n",
    "total=0\n",
    "for life in lifes:\n",
    "    total+=life\n",
    "print(total/len(lifes))\n",
    "#this is slow, alternative method is as follows"
   ]
  },
  {
   "cell_type": "code",
   "execution_count": 25,
   "id": "f8d0c0d7",
   "metadata": {},
   "outputs": [
    {
     "name": "stdout",
     "output_type": "stream",
     "text": [
      "69.33333333333333\n",
      "69.33333333333333\n",
      "11.555555555555555\n",
      "3.39934634239519\n",
      "68.0\n"
     ]
    }
   ],
   "source": [
    "import numpy as np\n",
    "total=np.sum(lifes)\n",
    "print(total/len(lifes))\n",
    "print(np.mean(lifes))\n",
    "print(np.var(lifes))\n",
    "print(np.sqrt(np.var(lifes)))\n",
    "print(np.median(lifes))\n"
   ]
  },
  {
   "cell_type": "code",
   "execution_count": 37,
   "id": "86a322cd",
   "metadata": {},
   "outputs": [
    {
     "data": {
      "text/plain": [
       "PAK   -3.333333\n",
       "IND   -1.333333\n",
       "BGD    4.666667\n",
       "dtype: float64"
      ]
     },
     "execution_count": 37,
     "metadata": {},
     "output_type": "execute_result"
    }
   ],
   "source": [
    "# A Related feature in pandas and nummy is called broadcasting. With broadcasting, you can \n",
    "# apply an operation to every value in the series, changing the series. For instance, I want to subtract \n",
    "#the mean from each observation of lifes. This is faster than iterating through each observation\n",
    "lifes-=np.mean(lifes)\n",
    "lifes"
   ]
  },
  {
   "cell_type": "markdown",
   "id": "35073652",
   "metadata": {},
   "source": [
    "The .loc attribute lets you not only modify data in place, but also add new data as well. If the value you pass in as the index doesn't exist, then a new entry is added. And keep in mind, indices can have mixed types. While it's important to be aware of the typing going on underneath, Pandas will automatically change the underlying NumPy types as appropriate."
   ]
  },
  {
   "cell_type": "code",
   "execution_count": 45,
   "id": "d23ab9d6",
   "metadata": {},
   "outputs": [
    {
     "data": {
      "text/plain": [
       "PAK    66.0\n",
       "IND    68.0\n",
       "BGD    74.0\n",
       "0       NaN\n",
       "dtype: float64"
      ]
     },
     "execution_count": 45,
     "metadata": {},
     "output_type": "execute_result"
    }
   ],
   "source": [
    "#define lifes again\n",
    "countries_life_expectancy={'PAK':66,'IND':68,'BGD':74}\n",
    "lifes=pd.Series(countries_life_expectancy)\n",
    "lifes\n",
    "lifes.loc[0]=np.nan\n",
    "lifes\n",
    "lifes.loc['PAK']=np.nan #this will replace the existing value at 'PAK' index to nan"
   ]
  },
  {
   "cell_type": "markdown",
   "id": "b01cfa3d",
   "metadata": {},
   "source": [
    "index values are not unique in pandas"
   ]
  },
  {
   "cell_type": "code",
   "execution_count": 49,
   "id": "2522c4ac",
   "metadata": {},
   "outputs": [
    {
     "data": {
      "text/plain": [
       "PAK    68\n",
       "PAK    70\n",
       "dtype: int64"
      ]
     },
     "execution_count": 49,
     "metadata": {},
     "output_type": "execute_result"
    }
   ],
   "source": [
    "pak_life=pd.Series([68,70],index=['PAK','PAK'])\n",
    "pak_life"
   ]
  },
  {
   "cell_type": "code",
   "execution_count": 52,
   "id": "831a4e72",
   "metadata": {},
   "outputs": [
    {
     "name": "stderr",
     "output_type": "stream",
     "text": [
      "C:\\Users\\fatimasadik\\AppData\\Local\\Temp\\ipykernel_13684\\563072033.py:2: FutureWarning: The series.append method is deprecated and will be removed from pandas in a future version. Use pandas.concat instead.\n",
      "  all_lifes=lifes.append(pak_life)\n"
     ]
    },
    {
     "data": {
      "text/plain": [
       "PAK     NaN\n",
       "PAK    68.0\n",
       "PAK    70.0\n",
       "dtype: float64"
      ]
     },
     "execution_count": 52,
     "metadata": {},
     "output_type": "execute_result"
    }
   ],
   "source": [
    "#let's append alifes and pak_lifes\n",
    "all_lifes=lifes.append(pak_life)\n",
    "all_lifes\n"
   ]
  },
  {
   "cell_type": "code",
   "execution_count": 53,
   "id": "38ee52f8",
   "metadata": {},
   "outputs": [
    {
     "data": {
      "text/plain": [
       "PAK     NaN\n",
       "PAK    68.0\n",
       "PAK    70.0\n",
       "dtype: float64"
      ]
     },
     "execution_count": 53,
     "metadata": {},
     "output_type": "execute_result"
    }
   ],
   "source": [
    "all_lifes.loc['PAK'] #all values for PAK"
   ]
  }
 ],
 "metadata": {
  "kernelspec": {
   "display_name": "Python 3 (ipykernel)",
   "language": "python",
   "name": "python3"
  },
  "language_info": {
   "codemirror_mode": {
    "name": "ipython",
    "version": 3
   },
   "file_extension": ".py",
   "mimetype": "text/x-python",
   "name": "python",
   "nbconvert_exporter": "python",
   "pygments_lexer": "ipython3",
   "version": "3.9.13"
  }
 },
 "nbformat": 4,
 "nbformat_minor": 5
}
