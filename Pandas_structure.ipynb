{
 "cells": [
  {
   "cell_type": "markdown",
   "id": "1c1a454b",
   "metadata": {},
   "source": [
    "Pandas\n",
    "Pandas are useful when working with tabular data. Cleaning, restructuring (long to wide, merging), manipulating, quuering, and ploting the data will also be done using pandas\n",
    "In pandas data table is called a DataFrame"
   ]
  },
  {
   "cell_type": "code",
   "execution_count": null,
   "id": "4cfbe32f",
   "metadata": {},
   "outputs": [],
   "source": [
    "!pip install pandas\n",
    "!pip install numpy\n"
   ]
  },
  {
   "cell_type": "markdown",
   "id": "6c37137f",
   "metadata": {},
   "source": [
    "There are two types of data structures in pandas; Series and DataFrame. Series are different from list and dictionary. Each item or element of a series has an index and can be retrieved. The index can be thought of as a key in a dictionary. The actual data column will have a label that can be retrieved using .name attribute,"
   ]
  },
  {
   "cell_type": "code",
   "execution_count": 2,
   "id": "2a472a92",
   "metadata": {},
   "outputs": [],
   "source": [
    "import pandas as pd\n",
    "import numpy as np"
   ]
  },
  {
   "cell_type": "code",
   "execution_count": 6,
   "id": "c88914e0",
   "metadata": {},
   "outputs": [
    {
     "data": {
      "text/plain": [
       "0    PAK\n",
       "1    IND\n",
       "2    BGD\n",
       "dtype: object"
      ]
     },
     "execution_count": 6,
     "metadata": {},
     "output_type": "execute_result"
    }
   ],
   "source": [
    "# Make a series\n",
    "countries=['PAK','IND','BGD']\n",
    "pd.Series(countries)"
   ]
  },
  {
   "cell_type": "code",
   "execution_count": 16,
   "id": "b6c65feb",
   "metadata": {},
   "outputs": [
    {
     "data": {
      "text/plain": [
       "PAK    66\n",
       "IND    68\n",
       "BGD    74\n",
       "dtype: int64"
      ]
     },
     "execution_count": 16,
     "metadata": {},
     "output_type": "execute_result"
    }
   ],
   "source": [
    "#let's make a series of whole numbers\n",
    "life_expectancy_birth=pd.Series([66,68,74])\n",
    "life_expectancy_birth\n",
    "life=pd.Series([66,68,74],index=(countries))\n",
    "life"
   ]
  },
  {
   "cell_type": "code",
   "execution_count": 25,
   "id": "58cf6a1d",
   "metadata": {},
   "outputs": [
    {
     "data": {
      "text/plain": [
       "False"
      ]
     },
     "execution_count": 25,
     "metadata": {},
     "output_type": "execute_result"
    }
   ],
   "source": [
    "#None and NAN are not the same\n",
    "np.nan==None"
   ]
  },
  {
   "cell_type": "code",
   "execution_count": 33,
   "id": "b2a3a6b3",
   "metadata": {},
   "outputs": [
    {
     "data": {
      "text/plain": [
       "True"
      ]
     },
     "execution_count": 33,
     "metadata": {},
     "output_type": "execute_result"
    }
   ],
   "source": [
    "#An equality test can not be done on nan\n",
    "a=np.nan\n",
    "a\n",
    "a==a\n",
    "#a special function is used\n",
    "np.isnan(a)\n"
   ]
  },
  {
   "cell_type": "code",
   "execution_count": 17,
   "id": "da4422c8",
   "metadata": {},
   "outputs": [
    {
     "data": {
      "text/plain": [
       "PAK    66\n",
       "IND    68\n",
       "BGD    74\n",
       "dtype: int64"
      ]
     },
     "execution_count": 17,
     "metadata": {},
     "output_type": "execute_result"
    }
   ],
   "source": [
    "#Series from dictionary\n",
    "countries_life_expectancy={'PAK':66,'IND':68,'BGD':74}\n",
    "life=pd.Series(countries_life_expectancy)\n",
    "life\n"
   ]
  },
  {
   "cell_type": "code",
   "execution_count": null,
   "id": "30d4f2bf",
   "metadata": {},
   "outputs": [],
   "source": []
  },
  {
   "cell_type": "code",
   "execution_count": 22,
   "id": "7ca04ec4",
   "metadata": {},
   "outputs": [
    {
     "data": {
      "text/plain": [
       "PAK    LOWER MIDDLE\n",
       "IND    LOWER MIDDLE\n",
       "AFG             LOW\n",
       "NEP             NaN\n",
       "dtype: object"
      ]
     },
     "execution_count": 22,
     "metadata": {},
     "output_type": "execute_result"
    }
   ],
   "source": [
    "countries_dict={'PAK':'LOWER MIDDLE','IND':'LOWER MIDDLE','BGD':'LOWER MIDDLE','AFG':'LOW'}\n",
    "countries=pd.Series(countries_dict,index=['PAK','IND','AFG','NEP']) #countries names are the index labels\n",
    "countries"
   ]
  },
  {
   "cell_type": "markdown",
   "id": "19f743cc",
   "metadata": {},
   "source": [
    "BGD is not part of the series even though it was part of the dictionary. However, NEP is included as a missing value\n",
    "Querying a Series"
   ]
  },
  {
   "cell_type": "code",
   "execution_count": 26,
   "id": "8105bc84",
   "metadata": {},
   "outputs": [
    {
     "data": {
      "text/plain": [
       "'LOWER MIDDLE'"
      ]
     },
     "execution_count": 26,
     "metadata": {},
     "output_type": "execute_result"
    }
   ],
   "source": [
    "# A pandas Series can be queried either by the index position or the index label. If you don't give an \n",
    "# index to the series when querying, the position and the label are effectively the same values. To \n",
    "# query by numeric location, starting at zero, use the iloc attribute. To query by the index label, \n",
    "# you can use the loc attribute. \n",
    "countries.iloc[0] #will return the income level of the 1st entry\n",
    "countries.loc[\"PAK\"] #Will do the same"
   ]
  },
  {
   "cell_type": "code",
   "execution_count": 33,
   "id": "a730b9e5",
   "metadata": {},
   "outputs": [
    {
     "data": {
      "text/plain": [
       "'PAK'"
      ]
     },
     "execution_count": 33,
     "metadata": {},
     "output_type": "execute_result"
    }
   ],
   "source": [
    "countries_codes=pd.Series({586:'PAK',356:'IND',50:'BGD'})\n",
    "countries_codes\n",
    "#countries_codes[0] #this gives an error, because index zero does not exist\n",
    "countries_codes.iloc[0]\n"
   ]
  }
 ],
 "metadata": {
  "kernelspec": {
   "display_name": "Python 3 (ipykernel)",
   "language": "python",
   "name": "python3"
  },
  "language_info": {
   "codemirror_mode": {
    "name": "ipython",
    "version": 3
   },
   "file_extension": ".py",
   "mimetype": "text/x-python",
   "name": "python",
   "nbconvert_exporter": "python",
   "pygments_lexer": "ipython3",
   "version": "3.9.13"
  }
 },
 "nbformat": 4,
 "nbformat_minor": 5
}
